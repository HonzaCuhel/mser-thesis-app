{
  "nbformat": 4,
  "nbformat_minor": 0,
  "metadata": {
    "colab": {
      "name": "predict_emotion.ipynb",
      "provenance": [],
      "collapsed_sections": []
    },
    "kernelspec": {
      "name": "python3",
      "display_name": "Python 3"
    }
  },
  "cells": [
    {
      "cell_type": "markdown",
      "metadata": {
        "id": "coKAZLXvspj9"
      },
      "source": [
        "# Multimodal Speech Emotion Recognition\n",
        "<hr/>\n",
        "<b>Description:</b> This notebook contains a demo application of a Multimodal Speech Emotion Recognition model trained audios and texts on the IEMOCAP dataset using 4 basic emotions.<br/>\n",
        "<b>Author:</b> Jan Čuhel<br/>\n",
        "<b>Date:</b> 17.3.2021<br/>\n",
        "<b>Dataset:</b> IEMOCAP<br/>\n",
        "<b>Emotions:</b> Basic - [happy + excited, sad, angry, neutral]<br/>"
      ]
    },
    {
      "cell_type": "markdown",
      "metadata": {
        "id": "DHBgi40Tycgh"
      },
      "source": [
        "\n",
        "###Resources \n",
        "- https://ricardodeazambuja.com/deep_learning/2019/03/09/audio_and_video_google_colab/\n",
        "- https://stackoverflow.com/questions/9031783/hide-all-warnings-in-ipython\n",
        "- https://getemoji.com/\n",
        "- https://realpython.com/python-speech-recognition/\n",
        "- https://github.com/Uberi/speech_recognition#readme"
      ]
    },
    {
      "cell_type": "markdown",
      "metadata": {
        "id": "vj-Bbk2DyK1-"
      },
      "source": [
        "### Installation"
      ]
    },
    {
      "cell_type": "code",
      "metadata": {
        "id": "fFxcN_payKfL",
        "colab": {
          "base_uri": "https://localhost:8080/"
        },
        "outputId": "798e80f8-d5f6-455e-d706-5ad5eabad542"
      },
      "source": [
        "!pip install -q ffmpeg-python SpeechRecognition gTTS pydub"
      ],
      "execution_count": 1,
      "outputs": [
        {
          "output_type": "stream",
          "text": [
            "\u001b[K     |████████████████████████████████| 32.8MB 110kB/s \n",
            "\u001b[?25h"
          ],
          "name": "stdout"
        }
      ]
    },
    {
      "cell_type": "markdown",
      "metadata": {
        "id": "ZzpQB2bhyNmI"
      },
      "source": [
        "### Connet to GitHub"
      ]
    },
    {
      "cell_type": "code",
      "metadata": {
        "colab": {
          "base_uri": "https://localhost:8080/"
        },
        "id": "x4WHsFxYuIho",
        "outputId": "f9eabb6b-17ef-463b-8c98-b1f18dbd279d"
      },
      "source": [
        "!git clone https://github.com/HonzaCuhel/mser-thesis-app.git"
      ],
      "execution_count": 2,
      "outputs": [
        {
          "output_type": "stream",
          "text": [
            "Cloning into 'mser-thesis-app'...\n",
            "remote: Enumerating objects: 51, done.\u001b[K\n",
            "remote: Counting objects: 100% (51/51), done.\u001b[K\n",
            "remote: Compressing objects: 100% (42/42), done.\u001b[K\n",
            "remote: Total 51 (delta 16), reused 44 (delta 9), pack-reused 0\u001b[K\n",
            "Unpacking objects: 100% (51/51), done.\n"
          ],
          "name": "stdout"
        }
      ]
    },
    {
      "cell_type": "markdown",
      "metadata": {
        "id": "fwAiE77ZQIIJ"
      },
      "source": [
        "### Imports"
      ]
    },
    {
      "cell_type": "code",
      "metadata": {
        "id": "n00MeETqutfK"
      },
      "source": [
        "import sys\n",
        "import matplotlib.pyplot as plt\n",
        "import speech_recognition as sr\n",
        "import gtts\n",
        "import IPython.display as display\n",
        "\n",
        "import warnings\n",
        "warnings.filterwarnings('ignore')\n",
        "\n",
        "sys.path.append('/content/mser-thesis-app/')\n",
        "from record_audio import get_audio\n",
        "from predict_emotion import predict_emotion"
      ],
      "execution_count": 3,
      "outputs": []
    },
    {
      "cell_type": "markdown",
      "metadata": {
        "id": "HJ156tsLQDNL"
      },
      "source": [
        "### Defining constants"
      ]
    },
    {
      "cell_type": "code",
      "metadata": {
        "id": "DaZZavv3QCok"
      },
      "source": [
        "lang = 'en'\n",
        "dur = 11\n",
        "emoji_dict = {\"happy\":\"😊\", \"fear\":\"😱\", \"angry\":\"😡\", \"sad\":\"😢\", \"disgust\":\"🤮\", \"shame\":\"😳\", \"guilt\":\"😓\", \"neutral\": \"😐\"}\n",
        "NO = 'no'"
      ],
      "execution_count": 4,
      "outputs": []
    },
    {
      "cell_type": "markdown",
      "metadata": {
        "id": "5zCkOrk_QbwV"
      },
      "source": [
        "### Definition of functions"
      ]
    },
    {
      "cell_type": "code",
      "metadata": {
        "id": "ai4O4LxaQa77"
      },
      "source": [
        "def recognize_emotion(audio_file):\n",
        "  # use the audio file as the audio source\n",
        "  r = sr.Recognizer()\n",
        "  with sr.AudioFile(audio_file) as source:\n",
        "      audio = r.record(source, duration=dur)  # read the entire audio file\n",
        "  \n",
        "  # Resource: https://github.com/Uberi/speech_recognition/blob/master/examples/audio_transcribe.py\n",
        "  # Recognize speech using Google Speech Recognition\n",
        "  try:\n",
        "      text = r.recognize_google(audio, language=lang)\n",
        "  except sr.UnknownValueError:\n",
        "      print(\"Google Speech Recognition could not understand audio\")\n",
        "      return \"\"\n",
        "  except sr.RequestError as e:\n",
        "      print(\"Could not request results from Google Speech Recognition service; {0}\".format(e))\n",
        "      return \"\"\n",
        "\n",
        "  # Print what the user just has said\n",
        "  print(f'You\\'ve just said: {text}')\n",
        "  \n",
        "  # Return predicted emotion\n",
        "  return predict_emotion(text, audio_file)\n",
        "\n",
        "\n",
        "# def display_prediction(pred):\n",
        "#   print(f'\\nPredicted emotion: {pred} {emoji_dict[pred]}')\n",
        "\n",
        "#   # make request to google to get synthesis\n",
        "#   tts = gtts.gTTS(f'You are {pred}', lang=lang)\n",
        "\n",
        "#   output_file = 'output_emotion.mp3'\n",
        "#   tts.save(output_file)\n",
        "\n",
        "#   # Play it\n",
        "#   display.Audio(output_file, autoplay=True)"
      ],
      "execution_count": 5,
      "outputs": []
    },
    {
      "cell_type": "markdown",
      "metadata": {
        "id": "ETpnzv33QOzP"
      },
      "source": [
        "### Record a speech"
      ]
    },
    {
      "cell_type": "code",
      "metadata": {
        "colab": {
          "base_uri": "https://localhost:8080/",
          "height": 87
        },
        "id": "RPTSXUW9u3Ak",
        "outputId": "3cdcc97b-b049-4f92-d05f-95ee10635e2c"
      },
      "source": [
        "audio, sample_rate, audio_file = get_audio()"
      ],
      "execution_count": 6,
      "outputs": [
        {
          "output_type": "display_data",
          "data": {
            "text/html": [
              "\n",
              "<script>\n",
              "var my_div = document.createElement(\"DIV\");\n",
              "var my_p = document.createElement(\"P\");\n",
              "var my_btn = document.createElement(\"BUTTON\");\n",
              "var t = document.createTextNode(\"Press to start recording\");\n",
              "\n",
              "my_btn.appendChild(t);\n",
              "//my_p.appendChild(my_btn);\n",
              "my_div.appendChild(my_btn);\n",
              "document.body.appendChild(my_div);\n",
              "\n",
              "var base64data = 0;\n",
              "var reader;\n",
              "var recorder, gumStream;\n",
              "var recordButton = my_btn;\n",
              "\n",
              "var handleSuccess = function(stream) {\n",
              "  gumStream = stream;\n",
              "  var options = {\n",
              "    //bitsPerSecond: 8000, //chrome seems to ignore, always 48k\n",
              "    mimeType : 'audio/webm;codecs=opus'\n",
              "    //mimeType : 'audio/webm;codecs=pcm'\n",
              "  };            \n",
              "  //recorder = new MediaRecorder(stream, options);\n",
              "  recorder = new MediaRecorder(stream);\n",
              "  recorder.ondataavailable = function(e) {            \n",
              "    var url = URL.createObjectURL(e.data);\n",
              "    var preview = document.createElement('audio');\n",
              "    preview.controls = true;\n",
              "    preview.src = url;\n",
              "    document.body.appendChild(preview);\n",
              "\n",
              "    reader = new FileReader();\n",
              "    reader.readAsDataURL(e.data); \n",
              "    reader.onloadend = function() {\n",
              "      base64data = reader.result;\n",
              "      //console.log(\"Inside FileReader:\" + base64data);\n",
              "    }\n",
              "  };\n",
              "  recorder.start();\n",
              "  };\n",
              "\n",
              "recordButton.innerText = \"Recording... press to stop\";\n",
              "\n",
              "navigator.mediaDevices.getUserMedia({audio: true}).then(handleSuccess);\n",
              "\n",
              "\n",
              "function toggleRecording() {\n",
              "  if (recorder && recorder.state == \"recording\") {\n",
              "      recorder.stop();\n",
              "      gumStream.getAudioTracks()[0].stop();\n",
              "      recordButton.innerText = \"Saving the recording... pls wait!\"\n",
              "  }\n",
              "}\n",
              "\n",
              "// https://stackoverflow.com/a/951057\n",
              "function sleep(ms) {\n",
              "  return new Promise(resolve => setTimeout(resolve, ms));\n",
              "}\n",
              "\n",
              "var data = new Promise(resolve=>{\n",
              "//recordButton.addEventListener(\"click\", toggleRecording);\n",
              "recordButton.onclick = ()=>{\n",
              "toggleRecording()\n",
              "\n",
              "sleep(2000).then(() => {\n",
              "  // wait 2000ms for the data to be available...\n",
              "  // ideally this should use something like await...\n",
              "  //console.log(\"Inside data:\" + base64data)\n",
              "  resolve(base64data.toString())\n",
              "});\n",
              "}\n",
              "});\n",
              "      \n",
              "</script>\n"
            ],
            "text/plain": [
              "<IPython.core.display.HTML object>"
            ]
          },
          "metadata": {
            "tags": []
          }
        }
      ]
    },
    {
      "cell_type": "markdown",
      "metadata": {
        "id": "TA730O8iQUiJ"
      },
      "source": [
        "### Plot the audio's waveform"
      ]
    },
    {
      "cell_type": "code",
      "metadata": {
        "colab": {
          "base_uri": "https://localhost:8080/",
          "height": 592
        },
        "id": "vDsY7hN1q8Ji",
        "outputId": "dbe5be67-aba8-43c8-87d4-336a1b790844"
      },
      "source": [
        "plt.figure(figsize=(20,10))\n",
        "plt.plot(audio)\n",
        "plt.show()"
      ],
      "execution_count": 7,
      "outputs": [
        {
          "output_type": "display_data",
          "data": {
            "image/png": "[encoded data removed]",
            "text/plain": [
              "<Figure size 1440x720 with 1 Axes>"
            ]
          },
          "metadata": {
            "tags": [],
            "needs_background": "light"
          }
        }
      ]
    },
    {
      "cell_type": "markdown",
      "metadata": {
        "id": "AhbvAYwJP2Ym"
      },
      "source": [
        "#### Emotion recognition"
      ]
    },
    {
      "cell_type": "code",
      "metadata": {
        "colab": {
          "base_uri": "https://localhost:8080/"
        },
        "id": "QJ7Fcv6WJx2A",
        "outputId": "8dbf722e-7585-4c5d-edc0-47fd71fe6134"
      },
      "source": [
        "print('Welcome to the Multimodal Speech Emotion Recognizer app from audio and text!')\n",
        "print('-'*80)\n",
        "print('Help:')\n",
        "print(' - record a speech and the program will recognize your emotion')\n",
        "# print(f' - to end the program type \"{NO}\"')\n",
        "\n",
        "print('Recognizing emotion...')\n",
        "# Recognize the emotion\n",
        "pred_emotion = recognize_emotion(audio_file)\n",
        "\n",
        "# Check whether the emotion is not empty string (= the recognition was not succesful)\n",
        "if pred_emotion == '':\n",
        "  print('Something went wrong... Try again, please...')\n",
        "else:\n",
        "  # Display the results\n",
        "  # display_prediction(pred_emotion)\n",
        "  print(f'\\nPredicted emotion: {pred_emotion} {emoji_dict[pred_emotion]}')\n",
        "\n",
        "print('='*60)"
      ],
      "execution_count": 8,
      "outputs": [
        {
          "output_type": "stream",
          "text": [
            "Welcome to the Multimodal Speech Emotion Recognizer app from audio and text!\n",
            "--------------------------------------------------------------------------------\n",
            "Help:\n",
            " - record a speech and the program will recognize your emotion\n",
            "Recognizing emotion...\n",
            "You've just said: I feel like I am going to die\n",
            "\n",
            "Predicted emotion: happy 😊\n",
            "============================================================\n"
          ],
          "name": "stdout"
        }
      ]
    },
    {
      "cell_type": "markdown",
      "metadata": {
        "id": "JUHmdj8nPytt"
      },
      "source": [
        "#### Audio output"
      ]
    },
    {
      "cell_type": "code",
      "metadata": {
        "colab": {
          "base_uri": "https://localhost:8080/",
          "height": 61
        },
        "id": "mhlVyWoaM-5O",
        "outputId": "719cf00f-74b8-406f-bdb6-09b04f31eea9"
      },
      "source": [
        "# make request to google to get synthesis\n",
        "tts = gtts.gTTS(f'You are {pred_emotion}', lang=lang)\n",
        "\n",
        "output_file = 'output_emotion.mp3'\n",
        "tts.save(output_file)\n",
        "\n",
        "# Play it\n",
        "display.Audio(output_file, autoplay=True)"
      ],
      "execution_count": 9,
      "outputs": [
        {
          "output_type": "execute_result",
          "data": {
            "text/html": [
              "\n",
              "                <audio controls=\"controls\" autoplay=\"autoplay\">\n",
              "                    <source src=\"data:audio/mpeg;base64,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\" type=\"audio/mpeg\" />\n",
              "                    Your browser does not support the audio element.\n",
              "                </audio>\n",
              "              "
            ],
            "text/plain": [
              "<IPython.lib.display.Audio object>"
            ]
          },
          "metadata": {
            "tags": []
          },
          "execution_count": 9
        }
      ]
    },
    {
      "cell_type": "code",
      "metadata": {
        "id": "CleIaKi0PNLk"
      },
      "source": [
        ""
      ],
      "execution_count": null,
      "outputs": []
    }
  ]
}